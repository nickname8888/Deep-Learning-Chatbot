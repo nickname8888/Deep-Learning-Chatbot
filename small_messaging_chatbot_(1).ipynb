{
  "cells": [
    {
      "cell_type": "markdown",
      "metadata": {
        "id": "view-in-github",
        "colab_type": "text"
      },
      "source": [
        "<a href=\"https://colab.research.google.com/github/nickname8888/deep_learning_chatbot/blob/main/small_messaging_chatbot_(1).ipynb\" target=\"_parent\"><img src=\"https://colab.research.google.com/assets/colab-badge.svg\" alt=\"Open In Colab\"/></a>"
      ]
    },
    {
      "cell_type": "code",
      "execution_count": 1,
      "metadata": {
        "colab": {
          "base_uri": "https://localhost:8080/"
        },
        "id": "lk4JqfZW09z3",
        "outputId": "ae3898d3-d23c-4a7d-9bfc-9ae4b2407f5b"
      },
      "outputs": [
        {
          "output_type": "stream",
          "name": "stdout",
          "text": [
            "--2022-04-29 15:09:33--  http://www.cs.cornell.edu/~cristian/data/cornell_movie_dialogs_corpus.zip\n",
            "Resolving www.cs.cornell.edu (www.cs.cornell.edu)... 132.236.207.36\n",
            "Connecting to www.cs.cornell.edu (www.cs.cornell.edu)|132.236.207.36|:80... connected.\n",
            "HTTP request sent, awaiting response... 200 OK\n",
            "Length: 9916637 (9.5M) [application/zip]\n",
            "Saving to: ‘cornell_movie_dialogs_corpus.zip’\n",
            "\n",
            "cornell_movie_dialo 100%[===================>]   9.46M  25.1MB/s    in 0.4s    \n",
            "\n",
            "2022-04-29 15:09:34 (25.1 MB/s) - ‘cornell_movie_dialogs_corpus.zip’ saved [9916637/9916637]\n",
            "\n"
          ]
        }
      ],
      "source": [
        "!wget http://www.cs.cornell.edu/~cristian/data/cornell_movie_dialogs_corpus.zip"
      ]
    },
    {
      "cell_type": "code",
      "execution_count": 2,
      "metadata": {
        "colab": {
          "base_uri": "https://localhost:8080/"
        },
        "id": "YPAn8u7k1Uq3",
        "outputId": "8910ad7e-dfeb-4c3a-ae52-8fa42c9431e7"
      },
      "outputs": [
        {
          "output_type": "stream",
          "name": "stdout",
          "text": [
            "Archive:  /content/cornell_movie_dialogs_corpus.zip\n",
            "   creating: /content/data/cornell movie-dialogs corpus/\n",
            "  inflating: /content/data/cornell movie-dialogs corpus/.DS_Store  \n",
            "   creating: /content/data/__MACOSX/\n",
            "   creating: /content/data/__MACOSX/cornell movie-dialogs corpus/\n",
            "  inflating: /content/data/__MACOSX/cornell movie-dialogs corpus/._.DS_Store  \n",
            "  inflating: /content/data/cornell movie-dialogs corpus/chameleons.pdf  \n",
            "  inflating: /content/data/__MACOSX/cornell movie-dialogs corpus/._chameleons.pdf  \n",
            "  inflating: /content/data/cornell movie-dialogs corpus/movie_characters_metadata.txt  \n",
            "  inflating: /content/data/cornell movie-dialogs corpus/movie_conversations.txt  \n",
            "  inflating: /content/data/cornell movie-dialogs corpus/movie_lines.txt  \n",
            "  inflating: /content/data/cornell movie-dialogs corpus/movie_titles_metadata.txt  \n",
            "  inflating: /content/data/cornell movie-dialogs corpus/raw_script_urls.txt  \n",
            "  inflating: /content/data/cornell movie-dialogs corpus/README.txt  \n",
            "  inflating: /content/data/__MACOSX/cornell movie-dialogs corpus/._README.txt  \n"
          ]
        }
      ],
      "source": [
        "!unzip /content/cornell_movie_dialogs_corpus.zip -d /content/data"
      ]
    },
    {
      "cell_type": "code",
      "execution_count": 3,
      "metadata": {
        "colab": {
          "base_uri": "https://localhost:8080/"
        },
        "id": "KACYXQtG12Va",
        "outputId": "44167945-e5c9-4f15-c2f6-df4f814423ef"
      },
      "outputs": [
        {
          "output_type": "stream",
          "name": "stdout",
          "text": [
            "[\"u0 +++$+++ u2 +++$+++ m0 +++$+++ ['L194', 'L195', 'L196', 'L197']\", \"u0 +++$+++ u2 +++$+++ m0 +++$+++ ['L198', 'L199']\", \"u0 +++$+++ u2 +++$+++ m0 +++$+++ ['L200', 'L201', 'L202', 'L203']\", \"u0 +++$+++ u2 +++$+++ m0 +++$+++ ['L204', 'L205', 'L206']\", \"u0 +++$+++ u2 +++$+++ m0 +++$+++ ['L207', 'L208']\", \"u0 +++$+++ u2 +++$+++ m0 +++$+++ ['L271', 'L272', 'L273', 'L274', 'L275']\", \"u0 +++$+++ u2 +++$+++ m0 +++$+++ ['L276', 'L277']\", \"u0 +++$+++ u2 +++$+++ m0 +++$+++ ['L280', 'L281']\", \"u0 +++$+++ u2 +++$+++ m0 +++$+++ ['L363', 'L364']\", \"u0 +++$+++ u2 +++$+++ m0 +++$+++ ['L365', 'L366']\"]\n"
          ]
        }
      ],
      "source": [
        "import re\n",
        "\n",
        "lines = open('/content/data/cornell movie-dialogs corpus/movie_lines.txt', encoding='utf-8',\n",
        "             errors='ignore').read().split('\\n')\n",
        "\n",
        "convers = open('/content/data/cornell movie-dialogs corpus/movie_conversations.txt', encoding='utf-8',\n",
        "             errors='ignore').read().split('\\n')\n",
        "\n",
        "print(convers[:10])\n",
        "# print(covers)"
      ]
    },
    {
      "cell_type": "code",
      "execution_count": 4,
      "metadata": {
        "id": "WIOFP_LW2adO"
      },
      "outputs": [],
      "source": [
        "exchn = []\n",
        "for conver in convers:\n",
        "    exchn.append(conver.split(' +++$+++ ')[-1][1:-1].replace(\"'\", \" \").replace(\",\",\"\").split())\n",
        "\n",
        "diag = {}\n",
        "for line in lines:\n",
        "    diag[line.split(' +++$+++ ')[0]] = line.split(' +++$+++ ')[-1]\n",
        "\n",
        "## delete\n",
        "del(lines, convers, conver, line)"
      ]
    },
    {
      "cell_type": "code",
      "execution_count": 5,
      "metadata": {
        "colab": {
          "base_uri": "https://localhost:8080/"
        },
        "id": "LRMNUUUm2jcV",
        "outputId": "e140f81d-ce85-42d5-bfee-bc03833dcfd8"
      },
      "outputs": [
        {
          "output_type": "stream",
          "name": "stdout",
          "text": [
            "{'L1045': 'They do not!', 'L1044': 'They do to!', 'L985': 'I hope so.', 'L984': 'She okay?', 'L925': \"Let's go.\", 'L924': 'Wow', 'L872': \"Okay -- you're gonna need to learn how to lie.\", 'L871': 'No', 'L870': 'I\\'m kidding.  You know how sometimes you just become this \"persona\"?  And you don\\'t know how to quit?', 'L869': 'Like my fear of wearing pastels?'}\n"
          ]
        }
      ],
      "source": [
        "# print(exchn[:10])\n",
        "print({k: diag[k] for k in list(diag)[:10]})"
      ]
    },
    {
      "cell_type": "code",
      "execution_count": 6,
      "metadata": {
        "colab": {
          "base_uri": "https://localhost:8080/"
        },
        "id": "A3vl1Lz93Tab",
        "outputId": "c259efee-6072-4146-b576-d8bae527f21d"
      },
      "outputs": [
        {
          "output_type": "stream",
          "name": "stdout",
          "text": [
            "['Can we make this quick?  Roxanne Korrine and Andrew Barrett are having an incredibly horrendous public break- up on the quad.  Again.', \"Well, I thought we'd start with pronunciation, if that's okay with you.\", 'Not the hacking and gagging and spitting part.  Please.', \"You're asking me out.  That's so cute. What's your name again?\", \"No, no, it's my fault -- we didn't have a proper introduction ---\", 'Cameron.', \"The thing is, Cameron -- I'm at the mercy of a particularly hideous breed of loser.  My sister.  I can't date until she does.\", 'Why?', 'Unsolved mystery.  She used to be really popular when she started high school, then it was just like she got sick of it or something.', 'Gosh, if only we could find Kat a boyfriend...']\n",
            "[\"Well, I thought we'd start with pronunciation, if that's okay with you.\", 'Not the hacking and gagging and spitting part.  Please.', \"Okay... then how 'bout we try out some French cuisine.  Saturday?  Night?\", 'Forget it.', 'Cameron.', \"The thing is, Cameron -- I'm at the mercy of a particularly hideous breed of loser.  My sister.  I can't date until she does.\", 'Seems like she could get a date easy enough...', 'Unsolved mystery.  She used to be really popular when she started high school, then it was just like she got sick of it or something.', \"That's a shame.\", 'Let me see what I can do.']\n"
          ]
        }
      ],
      "source": [
        "questions = []\n",
        "answers = []\n",
        "\n",
        "for conver in exchn:\n",
        "    for i in range(len(conver) - 1):\n",
        "        questions.append(diag[conver[i]])\n",
        "        answers.append(diag[conver[i+1]])\n",
        "\n",
        "## delete\n",
        "del(diag, exchn, conver, i)\n",
        "\n",
        "print(questions[:10])\n",
        "print(answers[:10])"
      ]
    },
    {
      "cell_type": "code",
      "execution_count": 7,
      "metadata": {
        "colab": {
          "base_uri": "https://localhost:8080/"
        },
        "id": "pDSymGmP3iri",
        "outputId": "77a35944-cf28-4783-f3ff-64dcaa4c322c"
      },
      "outputs": [
        {
          "output_type": "stream",
          "name": "stdout",
          "text": [
            "['Cameron.', 'Why?', 'There.', 'Sure have.', 'Hi.', 'I was?', 'Well, no...', 'But', 'What crap?', 'No']\n",
            "[\"The thing is, Cameron -- I'm at the mercy of a particularly hideous breed of loser.  My sister.  I can't date until she does.\", 'Unsolved mystery.  She used to be really popular when she started high school, then it was just like she got sick of it or something.', 'Where?', \"I really, really, really wanna go, but I can't.  Not unless my sister goes.\", 'Looks like things worked out tonight, huh?', \"You never wanted to go out with 'me, did you?\", \"Then that's all you had to say.\", 'You always been this selfish?', \"Me.  This endless ...blonde babble. I'm like, boring myself.\", \"Okay -- you're gonna need to learn how to lie.\"]\n"
          ]
        }
      ],
      "source": [
        "sorted_ques = []\n",
        "sorted_ans = []\n",
        "for i in range(len(questions)):\n",
        "    if len(questions[i]) < 13:\n",
        "        sorted_ques.append(questions[i])\n",
        "        sorted_ans.append(answers[i])\n",
        "\n",
        "print(sorted_ques[:10])\n",
        "print(sorted_ans[:10])"
      ]
    },
    {
      "cell_type": "code",
      "execution_count": 8,
      "metadata": {
        "id": "oF0stF0v3vvv"
      },
      "outputs": [],
      "source": [
        "def clean_text(txt):\n",
        "    txt = txt.lower()\n",
        "    txt = re.sub(r\"i'm\", \"i am\", txt)\n",
        "    txt = re.sub(r\"he's\", \"he is\", txt)\n",
        "    txt = re.sub(r\"she's\", \"she is\", txt)\n",
        "    txt = re.sub(r\"that's\", \"that is\", txt)\n",
        "    txt = re.sub(r\"what's\", \"what is\", txt)\n",
        "    txt = re.sub(r\"where's\", \"where is\", txt)\n",
        "    txt = re.sub(r\"\\'ll\", \" will\", txt)\n",
        "    txt = re.sub(r\"\\'ve\", \" have\", txt)\n",
        "    txt = re.sub(r\"\\'re\", \" are\", txt)\n",
        "    txt = re.sub(r\"\\'d\", \" would\", txt)\n",
        "    txt = re.sub(r\"won't\", \"will not\", txt)\n",
        "    txt = re.sub(r\"can't\", \"can not\", txt)\n",
        "    txt = re.sub(r\"[^\\w\\s]\", \"\", txt)\n",
        "    return txt"
      ]
    },
    {
      "cell_type": "code",
      "execution_count": 9,
      "metadata": {
        "id": "ql1a4C0U32-S"
      },
      "outputs": [],
      "source": [
        "clean_ques = []\n",
        "clean_ans = []\n",
        "\n",
        "for line in sorted_ques:\n",
        "    clean_ques.append(clean_text(line))\n",
        "        \n",
        "for line in sorted_ans:\n",
        "    clean_ans.append(clean_text(line))\n",
        "\n",
        "## delete\n",
        "del(answers, questions, line)"
      ]
    },
    {
      "cell_type": "code",
      "execution_count": 10,
      "metadata": {
        "colab": {
          "base_uri": "https://localhost:8080/"
        },
        "id": "0W1k7mFm4NSi",
        "outputId": "3f232949-6ece-4896-e872-ba62cd34d7d1"
      },
      "outputs": [
        {
          "output_type": "stream",
          "name": "stdout",
          "text": [
            "['cameron', 'why', 'there', 'sure have', 'hi', 'i was', 'well no', 'but', 'what crap', 'no']\n",
            "['the thing is cameron  i am at the mercy of a particularly hideous breed of loser  my sister  i can not date until she does', 'unsolved mystery  she used to be really popular when she started high school then it was just like she got sick of it or something', 'where', 'i really really really wanna go but i can not  not unless my sister goes', 'looks like things worked out tonight huh', 'you never wanted to go out with me did you', 'then that is all you had to say', 'you always been this selfish', 'me  this endless blonde babble i am like boring myself', 'okay  you are gonna need to learn how to lie']\n"
          ]
        }
      ],
      "source": [
        "print(clean_ques[:10])\n",
        "print(clean_ans[:10])"
      ]
    },
    {
      "cell_type": "code",
      "execution_count": 11,
      "metadata": {
        "colab": {
          "base_uri": "https://localhost:8080/"
        },
        "id": "OQshxzBu4A5p",
        "outputId": "5d8387d9-dc2d-4730-cfa3-42303003e8d7"
      },
      "outputs": [
        {
          "output_type": "stream",
          "name": "stdout",
          "text": [
            "['the thing is cameron i am at the mercy of a', 'unsolved mystery she used to be really popular when she started', 'where', 'i really really really wanna go but i can not not', 'looks like things worked out tonight huh', 'you never wanted to go out with me did you', 'then that is all you had to say', 'you always been this selfish', 'me this endless blonde babble i am like boring myself', 'okay you are gonna need to learn how to lie']\n"
          ]
        }
      ],
      "source": [
        "for i in range(len(clean_ans)):\n",
        "    clean_ans[i] = ' '.join(clean_ans[i].split()[:11])\n",
        "\n",
        "del(sorted_ans, sorted_ques)\n",
        "print(clean_ans[:10])"
      ]
    },
    {
      "cell_type": "code",
      "execution_count": 12,
      "metadata": {
        "id": "EWwyFugj4ZkE"
      },
      "outputs": [],
      "source": [
        "## trimming\n",
        "clean_ans=clean_ans[:30000]\n",
        "clean_ques=clean_ques[:30000]"
      ]
    },
    {
      "cell_type": "code",
      "execution_count": 13,
      "metadata": {
        "id": "U_CIYOHd4dqU"
      },
      "outputs": [],
      "source": [
        "word2count = {}\n",
        "\n",
        "for line in clean_ques:\n",
        "    for word in line.split():\n",
        "        if word not in word2count:\n",
        "            word2count[word] = 1\n",
        "        else:\n",
        "            word2count[word] += 1\n",
        "for line in clean_ans:\n",
        "    for word in line.split():\n",
        "        if word not in word2count:\n",
        "            word2count[word] = 1\n",
        "        else:\n",
        "            word2count[word] += 1\n",
        "\n",
        "## delete\n",
        "del(word, line)"
      ]
    },
    {
      "cell_type": "code",
      "execution_count": 14,
      "metadata": {
        "id": "7fZE1END4kSx"
      },
      "outputs": [],
      "source": [
        "thresh = 5\n",
        "\n",
        "vocab = {}\n",
        "word_num = 0\n",
        "for word, count in word2count.items():\n",
        "    if count >= thresh:\n",
        "        vocab[word] = word_num\n",
        "        word_num += 1\n",
        "        \n",
        "## delete\n",
        "del(word2count, word, count, thresh)       \n",
        "del(word_num)        "
      ]
    },
    {
      "cell_type": "code",
      "execution_count": 15,
      "metadata": {
        "colab": {
          "base_uri": "https://localhost:8080/"
        },
        "id": "dzbLFawp4o93",
        "outputId": "0b21352e-e083-4fc6-f0d9-43c7aec8b02f"
      },
      "outputs": [
        {
          "output_type": "stream",
          "name": "stdout",
          "text": [
            "{'cameron': 0, 'why': 1, 'there': 2, 'sure': 3, 'have': 4, 'hi': 5, 'i': 6, 'was': 7, 'well': 8, 'no': 9}\n"
          ]
        }
      ],
      "source": [
        "print({k: vocab[k] for k in list(vocab)[:10]})"
      ]
    },
    {
      "cell_type": "code",
      "execution_count": 16,
      "metadata": {
        "id": "NefV4KCg7jg9"
      },
      "outputs": [],
      "source": [
        "for i in range(len(clean_ans)):\n",
        "    clean_ans[i] = '<SOS> ' + clean_ans[i] + ' <EOS>'\n",
        "\n",
        "tokens = ['<PAD>', '<EOS>', '<OUT>', '<SOS>']\n",
        "x = len(vocab)\n",
        "for token in tokens:\n",
        "    vocab[token] = x\n",
        "    x += 1\n",
        "  \n",
        "vocab['cameron'] = vocab['<PAD>']\n",
        "vocab['<PAD>'] = 0\n",
        "\n",
        "## delete\n",
        "del(token, tokens) \n",
        "del(x)\n",
        "\n",
        "### inv answers dict ###\n",
        "inv_vocab = {w:v for v, w in vocab.items()}\n",
        "\n",
        "## delete\n",
        "del(i)"
      ]
    },
    {
      "cell_type": "code",
      "execution_count": 17,
      "metadata": {
        "id": "iL0RJI-47nyb"
      },
      "outputs": [],
      "source": [
        "encoder_inp = []\n",
        "for line in clean_ques:\n",
        "    lst = []\n",
        "    for word in line.split():\n",
        "        if word not in vocab:\n",
        "            lst.append(vocab['<OUT>'])\n",
        "        else:\n",
        "            lst.append(vocab[word])\n",
        "        \n",
        "    encoder_inp.append(lst)\n",
        "\n",
        "decoder_inp = []\n",
        "for line in clean_ans:\n",
        "    lst = []\n",
        "    for word in line.split():\n",
        "        if word not in vocab:\n",
        "            lst.append(vocab['<OUT>'])\n",
        "        else:\n",
        "            lst.append(vocab[word])        \n",
        "    decoder_inp.append(lst)\n",
        "\n",
        "### delete\n",
        "del(clean_ans, clean_ques, line, lst, word)"
      ]
    },
    {
      "cell_type": "code",
      "execution_count": 18,
      "metadata": {
        "colab": {
          "base_uri": "https://localhost:8080/"
        },
        "id": "Nq-fEKqAdK8M",
        "outputId": "bcf237c3-bda5-444a-d4a5-48d604d5bce4"
      },
      "outputs": [
        {
          "output_type": "stream",
          "name": "stdout",
          "text": [
            "[[3023], [1], [2], [3, 4], [5], [6, 7], [8, 9], [10], [11, 12], [9]]\n",
            "[[3026, 60, 524, 28, 3023, 6, 40, 280, 60, 3025, 68, 87, 3024], [3026, 3025, 938, 14, 1042, 18, 227, 125, 2234, 70, 14, 2235, 3024], [3026, 151, 3024], [3026, 6, 125, 125, 125, 1035, 31, 10, 6, 235, 29, 29, 3024], [3026, 1482, 364, 883, 986, 35, 105, 64, 3024], [3026, 47, 33, 1133, 18, 31, 35, 207, 50, 110, 47, 3024], [3026, 84, 27, 28, 146, 47, 760, 18, 73, 3024], [3026, 47, 811, 1253, 46, 3025, 3024], [3026, 50, 46, 3025, 1510, 3025, 6, 40, 364, 1401, 504, 3024], [3026, 15, 47, 82, 2098, 1322, 18, 1845, 59, 18, 780, 3024]]\n"
          ]
        }
      ],
      "source": [
        "print(encoder_inp[:10])\n",
        "print(decoder_inp[:10])"
      ]
    },
    {
      "cell_type": "code",
      "execution_count": 19,
      "metadata": {
        "id": "9pEbZmjK7sAv"
      },
      "outputs": [],
      "source": [
        "from tensorflow.keras.preprocessing.sequence import pad_sequences\n",
        "encoder_inp = pad_sequences(encoder_inp, 13, padding='post', truncating='post')\n",
        "decoder_inp = pad_sequences(decoder_inp, 13, padding='post', truncating='post')"
      ]
    },
    {
      "cell_type": "code",
      "execution_count": 20,
      "metadata": {
        "id": "l9xVq5N77wWi"
      },
      "outputs": [],
      "source": [
        "decoder_final_output = []\n",
        "for i in decoder_inp:\n",
        "    decoder_final_output.append(i[1:]) \n",
        "\n",
        "decoder_final_output = pad_sequences(decoder_final_output, 13, padding='post', truncating='post')\n",
        "\n",
        "\n",
        "del(i)"
      ]
    },
    {
      "cell_type": "code",
      "execution_count": 21,
      "metadata": {
        "colab": {
          "base_uri": "https://localhost:8080/"
        },
        "id": "uZtcpr1e70S_",
        "outputId": "cd98ccc3-3a49-41de-adfc-35fcd5747fda"
      },
      "outputs": [
        {
          "output_type": "stream",
          "name": "stdout",
          "text": [
            "(30000, 13, 3027)\n"
          ]
        }
      ],
      "source": [
        "from tensorflow.keras.utils import to_categorical\n",
        "decoder_final_output = to_categorical(decoder_final_output, len(vocab))\n",
        "\n",
        "print(decoder_final_output.shape)"
      ]
    },
    {
      "cell_type": "code",
      "execution_count": 22,
      "metadata": {
        "id": "HfY4j1aB74ic"
      },
      "outputs": [],
      "source": [
        "from tensorflow.keras.models import Model\n",
        "from tensorflow.keras.layers import Dense, Embedding, LSTM, Input\n",
        "\n",
        "\n",
        "enc_inp = Input(shape=(13, ))\n",
        "dec_inp = Input(shape=(13, ))\n",
        "\n",
        "\n",
        "VOCAB_SIZE = len(vocab)\n",
        "embed = Embedding(VOCAB_SIZE+1, output_dim=50, \n",
        "                  input_length=13,\n",
        "                  trainable=True                  \n",
        "                  )\n",
        "\n",
        "\n",
        "enc_embed = embed(enc_inp)\n",
        "enc_lstm = LSTM(400, return_sequences=True, return_state=True)\n",
        "enc_op, h, c = enc_lstm(enc_embed)\n",
        "enc_states = [h, c]\n",
        "\n",
        "\n",
        "\n",
        "dec_embed = embed(dec_inp)\n",
        "dec_lstm = LSTM(400, return_sequences=True, return_state=True)\n",
        "dec_op, _, _ = dec_lstm(dec_embed, initial_state=enc_states)\n",
        "\n",
        "dense = Dense(VOCAB_SIZE, activation='softmax')\n",
        "\n",
        "dense_op = dense(dec_op)\n",
        "\n",
        "model = Model([enc_inp, dec_inp], dense_op)"
      ]
    },
    {
      "cell_type": "code",
      "execution_count": 23,
      "metadata": {
        "id": "eOGSmyjA8GLD"
      },
      "outputs": [],
      "source": [
        "model.compile(loss='categorical_crossentropy',metrics=['acc'],optimizer='adam')"
      ]
    },
    {
      "cell_type": "code",
      "execution_count": 24,
      "metadata": {
        "colab": {
          "base_uri": "https://localhost:8080/"
        },
        "id": "GaSCaiCL8JG_",
        "outputId": "04bb201b-44a0-4d47-e8e8-08dd8d88cb59"
      },
      "outputs": [
        {
          "output_type": "stream",
          "name": "stdout",
          "text": [
            "Model: \"model\"\n",
            "__________________________________________________________________________________________________\n",
            " Layer (type)                   Output Shape         Param #     Connected to                     \n",
            "==================================================================================================\n",
            " input_2 (InputLayer)           [(None, 13)]         0           []                               \n",
            "                                                                                                  \n",
            " input_1 (InputLayer)           [(None, 13)]         0           []                               \n",
            "                                                                                                  \n",
            " embedding (Embedding)          (None, 13, 50)       151400      ['input_1[0][0]',                \n",
            "                                                                  'input_2[0][0]']                \n",
            "                                                                                                  \n",
            " lstm (LSTM)                    [(None, 13, 400),    721600      ['embedding[0][0]']              \n",
            "                                 (None, 400),                                                     \n",
            "                                 (None, 400)]                                                     \n",
            "                                                                                                  \n",
            " lstm_1 (LSTM)                  [(None, 13, 400),    721600      ['embedding[1][0]',              \n",
            "                                 (None, 400),                     'lstm[0][1]',                   \n",
            "                                 (None, 400)]                     'lstm[0][2]']                   \n",
            "                                                                                                  \n",
            " dense (Dense)                  (None, 13, 3027)     1213827     ['lstm_1[0][0]']                 \n",
            "                                                                                                  \n",
            "==================================================================================================\n",
            "Total params: 2,808,427\n",
            "Trainable params: 2,808,427\n",
            "Non-trainable params: 0\n",
            "__________________________________________________________________________________________________\n"
          ]
        }
      ],
      "source": [
        "model.summary()"
      ]
    },
    {
      "cell_type": "code",
      "execution_count": 25,
      "metadata": {
        "colab": {
          "base_uri": "https://localhost:8080/"
        },
        "id": "eIMwgyWM8NYi",
        "outputId": "a7f733d8-0fc9-4f08-e714-82d6e94bb9d1"
      },
      "outputs": [
        {
          "output_type": "stream",
          "name": "stdout",
          "text": [
            "Epoch 1/150\n",
            "938/938 [==============================] - 36s 30ms/step - loss: 3.1053 - acc: 0.4932\n",
            "Epoch 2/150\n",
            "938/938 [==============================] - 26s 28ms/step - loss: 2.7425 - acc: 0.5319\n",
            "Epoch 3/150\n",
            "938/938 [==============================] - 26s 27ms/step - loss: 2.6090 - acc: 0.5423\n",
            "Epoch 4/150\n",
            "938/938 [==============================] - 25s 27ms/step - loss: 2.5363 - acc: 0.5468\n",
            "Epoch 5/150\n",
            "938/938 [==============================] - 25s 27ms/step - loss: 2.4784 - acc: 0.5505\n",
            "Epoch 6/150\n",
            "938/938 [==============================] - 25s 27ms/step - loss: 2.4300 - acc: 0.5531\n",
            "Epoch 7/150\n",
            "938/938 [==============================] - 25s 27ms/step - loss: 2.3839 - acc: 0.5554\n",
            "Epoch 8/150\n",
            "938/938 [==============================] - 25s 27ms/step - loss: 2.3407 - acc: 0.5578\n",
            "Epoch 9/150\n",
            "938/938 [==============================] - 25s 27ms/step - loss: 2.2966 - acc: 0.5601\n",
            "Epoch 10/150\n",
            "938/938 [==============================] - 25s 27ms/step - loss: 2.2554 - acc: 0.5621\n",
            "Epoch 11/150\n",
            "938/938 [==============================] - 25s 27ms/step - loss: 2.2160 - acc: 0.5638\n",
            "Epoch 12/150\n",
            "938/938 [==============================] - 26s 27ms/step - loss: 2.1743 - acc: 0.5663\n",
            "Epoch 13/150\n",
            "938/938 [==============================] - 26s 27ms/step - loss: 2.1314 - acc: 0.5688\n",
            "Epoch 14/150\n",
            "938/938 [==============================] - 25s 27ms/step - loss: 2.0894 - acc: 0.5720\n",
            "Epoch 15/150\n",
            "938/938 [==============================] - 25s 27ms/step - loss: 2.0480 - acc: 0.5757\n",
            "Epoch 16/150\n",
            "938/938 [==============================] - 25s 26ms/step - loss: 2.0088 - acc: 0.5797\n",
            "Epoch 17/150\n",
            "938/938 [==============================] - 24s 26ms/step - loss: 1.9704 - acc: 0.5838\n",
            "Epoch 18/150\n",
            "938/938 [==============================] - 24s 26ms/step - loss: 1.9331 - acc: 0.5886\n",
            "Epoch 19/150\n",
            "938/938 [==============================] - 23s 25ms/step - loss: 1.8972 - acc: 0.5934\n",
            "Epoch 20/150\n",
            "938/938 [==============================] - 24s 25ms/step - loss: 1.8625 - acc: 0.5986\n",
            "Epoch 21/150\n",
            "938/938 [==============================] - 24s 25ms/step - loss: 1.8282 - acc: 0.6030\n",
            "Epoch 22/150\n",
            "938/938 [==============================] - 24s 25ms/step - loss: 1.7950 - acc: 0.6084\n",
            "Epoch 23/150\n",
            "938/938 [==============================] - 24s 25ms/step - loss: 1.7624 - acc: 0.6141\n",
            "Epoch 24/150\n",
            "938/938 [==============================] - 24s 25ms/step - loss: 1.7309 - acc: 0.6192\n",
            "Epoch 25/150\n",
            "938/938 [==============================] - 24s 26ms/step - loss: 1.6997 - acc: 0.6246\n",
            "Epoch 26/150\n",
            "938/938 [==============================] - 23s 25ms/step - loss: 1.6697 - acc: 0.6298\n",
            "Epoch 27/150\n",
            "938/938 [==============================] - 23s 25ms/step - loss: 1.6402 - acc: 0.6350\n",
            "Epoch 28/150\n",
            "938/938 [==============================] - 24s 25ms/step - loss: 1.6115 - acc: 0.6404\n",
            "Epoch 29/150\n",
            "938/938 [==============================] - 24s 25ms/step - loss: 1.5827 - acc: 0.6452\n",
            "Epoch 30/150\n",
            "938/938 [==============================] - 23s 25ms/step - loss: 1.5545 - acc: 0.6504\n",
            "Epoch 31/150\n",
            "938/938 [==============================] - 23s 25ms/step - loss: 1.5280 - acc: 0.6562\n",
            "Epoch 32/150\n",
            "938/938 [==============================] - 23s 25ms/step - loss: 1.5017 - acc: 0.6616\n",
            "Epoch 33/150\n",
            "938/938 [==============================] - 23s 25ms/step - loss: 1.4757 - acc: 0.6669\n",
            "Epoch 34/150\n",
            "938/938 [==============================] - 23s 24ms/step - loss: 1.4503 - acc: 0.6721\n",
            "Epoch 35/150\n",
            "938/938 [==============================] - 23s 24ms/step - loss: 1.4251 - acc: 0.6765\n",
            "Epoch 36/150\n",
            "938/938 [==============================] - 23s 24ms/step - loss: 1.4010 - acc: 0.6817\n",
            "Epoch 37/150\n",
            "938/938 [==============================] - 23s 24ms/step - loss: 1.3770 - acc: 0.6871\n",
            "Epoch 38/150\n",
            "938/938 [==============================] - 23s 24ms/step - loss: 1.3538 - acc: 0.6916\n",
            "Epoch 39/150\n",
            "938/938 [==============================] - 22s 24ms/step - loss: 1.3306 - acc: 0.6973\n",
            "Epoch 40/150\n",
            "938/938 [==============================] - 22s 24ms/step - loss: 1.3076 - acc: 0.7024\n",
            "Epoch 41/150\n",
            "938/938 [==============================] - 23s 24ms/step - loss: 1.2860 - acc: 0.7065\n",
            "Epoch 42/150\n",
            "938/938 [==============================] - 22s 24ms/step - loss: 1.2642 - acc: 0.7112\n",
            "Epoch 43/150\n",
            "938/938 [==============================] - 22s 24ms/step - loss: 1.2428 - acc: 0.7159\n",
            "Epoch 44/150\n",
            "938/938 [==============================] - 22s 24ms/step - loss: 1.2227 - acc: 0.7205\n",
            "Epoch 45/150\n",
            "938/938 [==============================] - 22s 23ms/step - loss: 1.2023 - acc: 0.7250\n",
            "Epoch 46/150\n",
            "938/938 [==============================] - 22s 23ms/step - loss: 1.1826 - acc: 0.7291\n",
            "Epoch 47/150\n",
            "938/938 [==============================] - 22s 23ms/step - loss: 1.1631 - acc: 0.7336\n",
            "Epoch 48/150\n",
            "938/938 [==============================] - 22s 24ms/step - loss: 1.1443 - acc: 0.7382\n",
            "Epoch 49/150\n",
            "938/938 [==============================] - 22s 23ms/step - loss: 1.1255 - acc: 0.7425\n",
            "Epoch 50/150\n",
            "938/938 [==============================] - 22s 23ms/step - loss: 1.1077 - acc: 0.7465\n",
            "Epoch 51/150\n",
            "938/938 [==============================] - 22s 23ms/step - loss: 1.0900 - acc: 0.7504\n",
            "Epoch 52/150\n",
            "938/938 [==============================] - 22s 24ms/step - loss: 1.0739 - acc: 0.7542\n",
            "Epoch 53/150\n",
            "938/938 [==============================] - 22s 23ms/step - loss: 1.0572 - acc: 0.7579\n",
            "Epoch 54/150\n",
            "938/938 [==============================] - 22s 23ms/step - loss: 1.0404 - acc: 0.7620\n",
            "Epoch 55/150\n",
            "938/938 [==============================] - 22s 23ms/step - loss: 1.0245 - acc: 0.7656\n",
            "Epoch 56/150\n",
            "938/938 [==============================] - 22s 23ms/step - loss: 1.0090 - acc: 0.7696\n",
            "Epoch 57/150\n",
            "938/938 [==============================] - 22s 23ms/step - loss: 0.9941 - acc: 0.7728\n",
            "Epoch 58/150\n",
            "938/938 [==============================] - 22s 23ms/step - loss: 0.9793 - acc: 0.7761\n",
            "Epoch 59/150\n",
            "938/938 [==============================] - 22s 23ms/step - loss: 0.9648 - acc: 0.7800\n",
            "Epoch 60/150\n",
            "938/938 [==============================] - 22s 23ms/step - loss: 0.9505 - acc: 0.7834\n",
            "Epoch 61/150\n",
            "938/938 [==============================] - 22s 23ms/step - loss: 0.9375 - acc: 0.7866\n",
            "Epoch 62/150\n",
            "938/938 [==============================] - 22s 23ms/step - loss: 0.9242 - acc: 0.7894\n",
            "Epoch 63/150\n",
            "938/938 [==============================] - 22s 23ms/step - loss: 0.9109 - acc: 0.7927\n",
            "Epoch 64/150\n",
            "938/938 [==============================] - 22s 24ms/step - loss: 0.8998 - acc: 0.7948\n",
            "Epoch 65/150\n",
            "938/938 [==============================] - 22s 23ms/step - loss: 0.8865 - acc: 0.7983\n",
            "Epoch 66/150\n",
            "938/938 [==============================] - 22s 23ms/step - loss: 0.8749 - acc: 0.8010\n",
            "Epoch 67/150\n",
            "938/938 [==============================] - 22s 23ms/step - loss: 0.8634 - acc: 0.8038\n",
            "Epoch 68/150\n",
            "938/938 [==============================] - 22s 24ms/step - loss: 0.8533 - acc: 0.8056\n",
            "Epoch 69/150\n",
            "938/938 [==============================] - 22s 23ms/step - loss: 0.8429 - acc: 0.8080\n",
            "Epoch 70/150\n",
            "938/938 [==============================] - 22s 23ms/step - loss: 0.8306 - acc: 0.8116\n",
            "Epoch 71/150\n",
            "938/938 [==============================] - 22s 23ms/step - loss: 0.8203 - acc: 0.8138\n",
            "Epoch 72/150\n",
            "938/938 [==============================] - 22s 24ms/step - loss: 0.8113 - acc: 0.8154\n",
            "Epoch 73/150\n",
            "938/938 [==============================] - 22s 23ms/step - loss: 0.8008 - acc: 0.8175\n",
            "Epoch 74/150\n",
            "938/938 [==============================] - 22s 23ms/step - loss: 0.7912 - acc: 0.8207\n",
            "Epoch 75/150\n",
            "938/938 [==============================] - 22s 23ms/step - loss: 0.7818 - acc: 0.8229\n",
            "Epoch 76/150\n",
            "938/938 [==============================] - 22s 23ms/step - loss: 0.7729 - acc: 0.8243\n",
            "Epoch 77/150\n",
            "938/938 [==============================] - 22s 23ms/step - loss: 0.7643 - acc: 0.8265\n",
            "Epoch 78/150\n",
            "938/938 [==============================] - 22s 23ms/step - loss: 0.7569 - acc: 0.8282\n",
            "Epoch 79/150\n",
            "938/938 [==============================] - 22s 23ms/step - loss: 0.7473 - acc: 0.8305\n",
            "Epoch 80/150\n",
            "938/938 [==============================] - 22s 23ms/step - loss: 0.7402 - acc: 0.8321\n",
            "Epoch 81/150\n",
            "938/938 [==============================] - 22s 23ms/step - loss: 0.7319 - acc: 0.8345\n",
            "Epoch 82/150\n",
            "938/938 [==============================] - 22s 23ms/step - loss: 0.7242 - acc: 0.8357\n",
            "Epoch 83/150\n",
            "938/938 [==============================] - 22s 23ms/step - loss: 0.7162 - acc: 0.8380\n",
            "Epoch 84/150\n",
            "938/938 [==============================] - 22s 23ms/step - loss: 0.7085 - acc: 0.8399\n",
            "Epoch 85/150\n",
            "938/938 [==============================] - 22s 23ms/step - loss: 0.7044 - acc: 0.8407\n",
            "Epoch 86/150\n",
            "938/938 [==============================] - 22s 23ms/step - loss: 0.6949 - acc: 0.8429\n",
            "Epoch 87/150\n",
            "938/938 [==============================] - 22s 23ms/step - loss: 0.6884 - acc: 0.8441\n",
            "Epoch 88/150\n",
            "938/938 [==============================] - 22s 23ms/step - loss: 0.6827 - acc: 0.8452\n",
            "Epoch 89/150\n",
            "938/938 [==============================] - 22s 23ms/step - loss: 0.6788 - acc: 0.8461\n",
            "Epoch 90/150\n",
            "938/938 [==============================] - 22s 23ms/step - loss: 0.6701 - acc: 0.8487\n",
            "Epoch 91/150\n",
            "938/938 [==============================] - 22s 23ms/step - loss: 0.6642 - acc: 0.8497\n",
            "Epoch 92/150\n",
            "938/938 [==============================] - 22s 23ms/step - loss: 0.6588 - acc: 0.8508\n",
            "Epoch 93/150\n",
            "938/938 [==============================] - 22s 23ms/step - loss: 0.6540 - acc: 0.8517\n",
            "Epoch 94/150\n",
            "938/938 [==============================] - 22s 23ms/step - loss: 0.6479 - acc: 0.8536\n",
            "Epoch 95/150\n",
            "938/938 [==============================] - 22s 23ms/step - loss: 0.6436 - acc: 0.8540\n",
            "Epoch 96/150\n",
            "938/938 [==============================] - 22s 23ms/step - loss: 0.6370 - acc: 0.8559\n",
            "Epoch 97/150\n",
            "938/938 [==============================] - 22s 23ms/step - loss: 0.6321 - acc: 0.8570\n",
            "Epoch 98/150\n",
            "938/938 [==============================] - 22s 23ms/step - loss: 0.6311 - acc: 0.8561\n",
            "Epoch 99/150\n",
            "938/938 [==============================] - 22s 23ms/step - loss: 0.6206 - acc: 0.8593\n",
            "Epoch 100/150\n",
            "938/938 [==============================] - 22s 23ms/step - loss: 0.6187 - acc: 0.8599\n",
            "Epoch 101/150\n",
            "938/938 [==============================] - 22s 23ms/step - loss: 0.6137 - acc: 0.8610\n",
            "Epoch 102/150\n",
            "938/938 [==============================] - 22s 23ms/step - loss: 0.6104 - acc: 0.8610\n",
            "Epoch 103/150\n",
            "938/938 [==============================] - 22s 23ms/step - loss: 0.6068 - acc: 0.8619\n",
            "Epoch 104/150\n",
            "938/938 [==============================] - 22s 23ms/step - loss: 0.6000 - acc: 0.8634\n",
            "Epoch 105/150\n",
            "938/938 [==============================] - 22s 23ms/step - loss: 0.5966 - acc: 0.8644\n",
            "Epoch 106/150\n",
            "938/938 [==============================] - 22s 23ms/step - loss: 0.5939 - acc: 0.8646\n",
            "Epoch 107/150\n",
            "938/938 [==============================] - 22s 24ms/step - loss: 0.5914 - acc: 0.8652\n",
            "Epoch 108/150\n",
            "938/938 [==============================] - 22s 24ms/step - loss: 0.5856 - acc: 0.8669\n",
            "Epoch 109/150\n",
            "938/938 [==============================] - 22s 24ms/step - loss: 0.5821 - acc: 0.8673\n",
            "Epoch 110/150\n",
            "938/938 [==============================] - 22s 23ms/step - loss: 0.5789 - acc: 0.8682\n",
            "Epoch 111/150\n",
            "938/938 [==============================] - 22s 23ms/step - loss: 0.5765 - acc: 0.8684\n",
            "Epoch 112/150\n",
            "938/938 [==============================] - 22s 23ms/step - loss: 0.5715 - acc: 0.8694\n",
            "Epoch 113/150\n",
            "938/938 [==============================] - 22s 24ms/step - loss: 0.5713 - acc: 0.8692\n",
            "Epoch 114/150\n",
            "938/938 [==============================] - 22s 24ms/step - loss: 0.5644 - acc: 0.8712\n",
            "Epoch 115/150\n",
            "938/938 [==============================] - 23s 25ms/step - loss: 0.5636 - acc: 0.8708\n",
            "Epoch 116/150\n",
            "938/938 [==============================] - 23s 25ms/step - loss: 0.5600 - acc: 0.8713\n",
            "Epoch 117/150\n",
            "938/938 [==============================] - 23s 24ms/step - loss: 0.5582 - acc: 0.8721\n",
            "Epoch 118/150\n",
            "938/938 [==============================] - 22s 24ms/step - loss: 0.5553 - acc: 0.8726\n",
            "Epoch 119/150\n",
            "938/938 [==============================] - 22s 24ms/step - loss: 0.5512 - acc: 0.8734\n",
            "Epoch 120/150\n",
            "938/938 [==============================] - 22s 24ms/step - loss: 0.5465 - acc: 0.8748\n",
            "Epoch 121/150\n",
            "938/938 [==============================] - 23s 24ms/step - loss: 0.5475 - acc: 0.8741\n",
            "Epoch 122/150\n",
            "938/938 [==============================] - 23s 24ms/step - loss: 0.5457 - acc: 0.8739\n",
            "Epoch 123/150\n",
            "938/938 [==============================] - 24s 26ms/step - loss: 0.5388 - acc: 0.8762\n",
            "Epoch 124/150\n",
            "938/938 [==============================] - 24s 26ms/step - loss: 0.5365 - acc: 0.8767\n",
            "Epoch 125/150\n",
            "938/938 [==============================] - 24s 26ms/step - loss: 0.5366 - acc: 0.8760\n",
            "Epoch 126/150\n",
            "938/938 [==============================] - 24s 25ms/step - loss: 0.5366 - acc: 0.8757\n",
            "Epoch 127/150\n",
            "938/938 [==============================] - 24s 26ms/step - loss: 0.5347 - acc: 0.8759\n",
            "Epoch 128/150\n",
            "938/938 [==============================] - 24s 25ms/step - loss: 0.5258 - acc: 0.8785\n",
            "Epoch 129/150\n",
            "938/938 [==============================] - 24s 25ms/step - loss: 0.5227 - acc: 0.8792\n",
            "Epoch 130/150\n",
            "938/938 [==============================] - 23s 24ms/step - loss: 0.5266 - acc: 0.8780\n",
            "Epoch 131/150\n",
            "938/938 [==============================] - 22s 23ms/step - loss: 0.5247 - acc: 0.8778\n",
            "Epoch 132/150\n",
            "938/938 [==============================] - 22s 23ms/step - loss: 0.5195 - acc: 0.8797\n",
            "Epoch 133/150\n",
            "938/938 [==============================] - 22s 24ms/step - loss: 0.5136 - acc: 0.8812\n",
            "Epoch 134/150\n",
            "938/938 [==============================] - 22s 24ms/step - loss: 0.5196 - acc: 0.8791\n",
            "Epoch 135/150\n",
            "938/938 [==============================] - 22s 23ms/step - loss: 0.5205 - acc: 0.8781\n",
            "Epoch 136/150\n",
            "938/938 [==============================] - 22s 23ms/step - loss: 0.5112 - acc: 0.8810\n",
            "Epoch 137/150\n",
            "938/938 [==============================] - 22s 24ms/step - loss: 0.5074 - acc: 0.8817\n",
            "Epoch 138/150\n",
            "938/938 [==============================] - 23s 25ms/step - loss: 0.5089 - acc: 0.8816\n",
            "Epoch 139/150\n",
            "938/938 [==============================] - 23s 25ms/step - loss: 0.5067 - acc: 0.8819\n",
            "Epoch 140/150\n",
            "938/938 [==============================] - 24s 26ms/step - loss: 0.5064 - acc: 0.8819\n",
            "Epoch 141/150\n",
            "938/938 [==============================] - 22s 24ms/step - loss: 0.5057 - acc: 0.8817\n",
            "Epoch 142/150\n",
            "938/938 [==============================] - 22s 24ms/step - loss: 0.4990 - acc: 0.8834\n",
            "Epoch 143/150\n",
            "938/938 [==============================] - 22s 23ms/step - loss: 0.5008 - acc: 0.8827\n",
            "Epoch 144/150\n",
            "938/938 [==============================] - 22s 23ms/step - loss: 0.5015 - acc: 0.8821\n",
            "Epoch 145/150\n",
            "938/938 [==============================] - 22s 24ms/step - loss: 0.4987 - acc: 0.8827\n",
            "Epoch 146/150\n",
            "938/938 [==============================] - 22s 24ms/step - loss: 0.4937 - acc: 0.8842\n",
            "Epoch 147/150\n",
            "938/938 [==============================] - 22s 23ms/step - loss: 0.4952 - acc: 0.8838\n",
            "Epoch 148/150\n",
            "938/938 [==============================] - 22s 24ms/step - loss: 0.4930 - acc: 0.8839\n",
            "Epoch 149/150\n",
            "938/938 [==============================] - 22s 24ms/step - loss: 0.4921 - acc: 0.8840\n",
            "Epoch 150/150\n",
            "938/938 [==============================] - 23s 24ms/step - loss: 0.4907 - acc: 0.8842\n"
          ]
        }
      ],
      "source": [
        "history = model.fit([encoder_inp, decoder_inp],decoder_final_output,epochs=150)"
      ]
    },
    {
      "cell_type": "code",
      "execution_count": 26,
      "metadata": {
        "id": "etWf1ouA9-ED"
      },
      "outputs": [],
      "source": [
        "from tensorflow.keras.models import Model\n",
        "from tensorflow.keras.layers import Input\n",
        "\n",
        "\n",
        "enc_model = Model([enc_inp], enc_states)\n",
        "\n",
        "\n",
        "\n",
        "# decoder Model\n",
        "decoder_state_input_h = Input(shape=(400,))\n",
        "decoder_state_input_c = Input(shape=(400,))\n",
        "\n",
        "decoder_states_inputs = [decoder_state_input_h, decoder_state_input_c]\n",
        "\n",
        "\n",
        "decoder_outputs, state_h, state_c = dec_lstm(dec_embed , \n",
        "                                    initial_state=decoder_states_inputs)\n",
        "\n",
        "\n",
        "decoder_states = [state_h, state_c]\n",
        "\n",
        "\n",
        "dec_model = Model([dec_inp]+ decoder_states_inputs,\n",
        "                                      [decoder_outputs]+ decoder_states)"
      ]
    },
    {
      "cell_type": "code",
      "execution_count": 32,
      "metadata": {
        "id": "eeIsSRnnOhkm"
      },
      "outputs": [],
      "source": [
        "import matplotlib.pyplot as plt"
      ]
    },
    {
      "cell_type": "code",
      "execution_count": 33,
      "metadata": {
        "colab": {
          "base_uri": "https://localhost:8080/",
          "height": 312
        },
        "id": "LnSXLnPpOfeA",
        "outputId": "a2f3c901-8a83-4ae7-d731-9c90c05fe242"
      },
      "outputs": [
        {
          "output_type": "display_data",
          "data": {
            "text/plain": [
              "<Figure size 432x288 with 1 Axes>"
            ],
            "image/png": "[encoded data removed]"
          },
          "metadata": {
            "needs_background": "light"
          }
        },
        {
          "output_type": "stream",
          "name": "stdout",
          "text": [
            "<built-in method keys of dict object at 0x7ff1af5234b0>\n"
          ]
        }
      ],
      "source": [
        "# # summarize history for accuracy\n",
        "plt.plot(history.history['acc'])\n",
        "# plt.plot(history.history['val_accuracy'])\n",
        "plt.title('model accuracy')\n",
        "plt.ylabel('accuracy')\n",
        "plt.xlabel('epoch')\n",
        "plt.legend(['train', 'test'], loc='upper left')\n",
        "plt.show()\n",
        "# # summarize history for loss\n",
        "# plt.plot(history.history['loss'])\n",
        "# plt.plot(history.history['val_loss'])\n",
        "# plt.title('model loss')\n",
        "# plt.ylabel('loss')\n",
        "# plt.xlabel('epoch')\n",
        "# plt.legend(['train', 'test'], loc='upper left')\n",
        "# plt.show()\n",
        "\n",
        "print(history.history.keys)"
      ]
    },
    {
      "cell_type": "code",
      "execution_count": 34,
      "metadata": {
        "id": "vG_Ulxnf-CVs",
        "colab": {
          "base_uri": "https://localhost:8080/"
        },
        "outputId": "4b9e2eb6-d9c0-432a-ae33-5f50c1397ff5"
      },
      "outputs": [
        {
          "output_type": "stream",
          "name": "stdout",
          "text": [
            "##########################################\n",
            "#       start chatting ver. 1.0          #\n",
            "##########################################\n",
            "you : hi\n",
            "WARNING:tensorflow:Model was constructed with shape (None, 13) for input KerasTensor(type_spec=TensorSpec(shape=(None, 13), dtype=tf.float32, name='input_2'), name='input_2', description=\"created by layer 'input_2'\"), but it was called on an input with incompatible shape (None, 1).\n"
          ]
        },
        {
          "output_type": "stream",
          "name": "stderr",
          "text": [
            "WARNING:tensorflow:Model was constructed with shape (None, 13) for input KerasTensor(type_spec=TensorSpec(shape=(None, 13), dtype=tf.float32, name='input_2'), name='input_2', description=\"created by layer 'input_2'\"), but it was called on an input with incompatible shape (None, 1).\n"
          ]
        },
        {
          "output_type": "stream",
          "name": "stdout",
          "text": [
            "chatbot :  hi \n",
            "==============================================\n",
            "you : do you work?\n",
            "chatbot :  i volunteer i read to blind people one day a week \n",
            "==============================================\n",
            "you : do you like coffee?\n",
            "chatbot :  <OUT> <OUT> on the load \n",
            "==============================================\n",
            "you : q\n",
            "chatbot :  <OUT> \n",
            "==============================================\n"
          ]
        }
      ],
      "source": [
        "import numpy as np\n",
        "\n",
        "\n",
        "from keras.preprocessing.sequence import pad_sequences\n",
        "print(\"##########################################\")\n",
        "print(\"#       start chatting ver. 1.0          #\")\n",
        "print(\"##########################################\")\n",
        "\n",
        "\n",
        "prepro1 = \"\"\n",
        "while prepro1 != 'q':\n",
        "    prepro1  = input(\"you : \")\n",
        "    ## prepro1 = \"Hello\"\n",
        "\n",
        "    prepro1 = clean_text(prepro1)\n",
        "    ## prepro1 = \"hello\"\n",
        "\n",
        "    prepro = [prepro1]\n",
        "    ## prepro1 = [\"hello\"]\n",
        "\n",
        "    txt = []\n",
        "    for x in prepro:\n",
        "        # x = \"hello\"\n",
        "        lst = []\n",
        "        for y in x.split():\n",
        "            ## y = \"hello\"\n",
        "            try:\n",
        "                lst.append(vocab[y])\n",
        "                ## vocab['hello'] = 454\n",
        "            except:\n",
        "                lst.append(vocab['<OUT>'])\n",
        "        txt.append(lst)\n",
        "\n",
        "    ## txt = [[454]]\n",
        "    txt = pad_sequences(txt, 13, padding='post')\n",
        "\n",
        "    ## txt = [[454,0,0,0,.........13]]\n",
        "\n",
        "    stat = enc_model.predict( txt )\n",
        "\n",
        "    empty_target_seq = np.zeros( ( 1 , 1) )\n",
        "     ##   empty_target_seq = [0]\n",
        "\n",
        "\n",
        "    empty_target_seq[0, 0] = vocab['<SOS>']\n",
        "    ##    empty_target_seq = [255]\n",
        "\n",
        "    stop_condition = False\n",
        "    decoded_translation = ''\n",
        "\n",
        "    while not stop_condition :\n",
        "\n",
        "        dec_outputs , h, c= dec_model.predict([ empty_target_seq] + stat )\n",
        "        decoder_concat_input = dense(dec_outputs)\n",
        "        ## decoder_concat_input = [0.1, 0.2, .4, .0, ...............]\n",
        "\n",
        "        sampled_word_index = np.argmax( decoder_concat_input[0, -1, :] )\n",
        "        ## sampled_word_index = [2]\n",
        "\n",
        "        sampled_word = inv_vocab[sampled_word_index] + ' '\n",
        "\n",
        "        ## inv_vocab[2] = 'hi'\n",
        "        ## sampled_word = 'hi '\n",
        "\n",
        "        if sampled_word != '<EOS> ':\n",
        "            decoded_translation += sampled_word  \n",
        "\n",
        "        if sampled_word == '<EOS> ' or len(decoded_translation.split()) > 13:\n",
        "            stop_condition = True \n",
        "\n",
        "        empty_target_seq = np.zeros( ( 1 , 1 ) )  \n",
        "        empty_target_seq[ 0 , 0 ] = sampled_word_index\n",
        "        ## <SOS> - > hi\n",
        "        ## hi --> <EOS>\n",
        "        stat = [h, c]  \n",
        "\n",
        "    print(\"chatbot : \", decoded_translation )\n",
        "    print(\"==============================================\")  "
      ]
    }
  ],
  "metadata": {
    "accelerator": "GPU",
    "colab": {
      "name": "small_messaging_chatbot (1).ipynb",
      "provenance": [],
      "collapsed_sections": [],
      "mount_file_id": "1tqyGqKtLOzm43wIpCnNIPDLV3McTJ5r3",
      "authorship_tag": "ABX9TyNuGesItWMiZO0N9q0Q6n9G",
      "include_colab_link": true
    },
    "kernelspec": {
      "display_name": "Python 3",
      "name": "python3"
    },
    "language_info": {
      "name": "python"
    }
  },
  "nbformat": 4,
  "nbformat_minor": 0
}